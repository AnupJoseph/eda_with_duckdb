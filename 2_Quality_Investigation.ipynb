{
 "cells": [
  {
   "cell_type": "code",
   "execution_count": 1,
   "metadata": {},
   "outputs": [],
   "source": [
    "import math\n",
    "\n",
    "import duckdb\n",
    "import plotly.express as px\n",
    "import plotly.graph_objects as go\n",
    "\n",
    "from utils import wrap_to_string, trimmer\n",
    "\n",
    "conn = duckdb.connect(\"dataset.db\")\n"
   ]
  },
  {
   "attachments": {},
   "cell_type": "markdown",
   "metadata": {},
   "source": [
    "## 2.1 Duplicates"
   ]
  },
  {
   "cell_type": "code",
   "execution_count": 7,
   "metadata": {},
   "outputs": [],
   "source": [
    "# Check number of duplicates while ignoring the index feature\n",
    "query = \"\"\"\n",
    "SELECT column_name\n",
    "FROM information_schema.columns\n",
    "\"\"\"\n",
    "cols = conn.sql(query).df()\n",
    "cols = cols[cols[\"column_name\"]!=\"Accident_Index\"]\n",
    "all_cols = wrap_to_string(cols)"
   ]
  },
  {
   "cell_type": "code",
   "execution_count": 8,
   "metadata": {},
   "outputs": [
    {
     "data": {
      "text/plain": [
       "'\"Vehicle_Reference_df_res\" ,\"Vehicle_Type\" ,\"Towing_and_Articulation\" ,\"Vehicle_Manoeuvre\" ,\"Vehicle_Location-Restricted_Lane\" ,\"Junction_Location\" ,\"Skidding_and_Overturning\" ,\"Hit_Object_in_Carriageway\" ,\"Vehicle_Leaving_Carriageway\" ,\"Hit_Object_off_Carriageway\" ,\"1st_Point_of_Impact\" ,\"Was_Vehicle_Left_Hand_Drive?\" ,\"Journey_Purpose_of_Driver\" ,\"Sex_of_Driver\" ,\"Age_of_Driver\" ,\"Age_Band_of_Driver\" ,\"Engine_Capacity_(CC)\" ,\"Propulsion_Code\" ,\"Age_of_Vehicle\" ,\"Driver_Home_Area_Type\" ,\"Location_Easting_OSGR\" ,\"Location_Northing_OSGR\" ,\"Longitude\" ,\"Latitude\" ,\"Police_Force\" ,\"Accident_Severity\" ,\"Number_of_Vehicles\" ,\"Number_of_Casualties\" ,\"Date\" ,\"Day_of_Week\" ,\"Time\" ,\"Local_Authority_(District)\" ,\"Local_Authority_(Highway)\" ,\"1st_Road_Class\" ,\"1st_Road_Number\" ,\"Road_Type\" ,\"Speed_limit\" ,\"Junction_Detail\" ,\"Junction_Control\" ,\"2nd_Road_Class\" ,\"2nd_Road_Number\" ,\"Pedestrian_Crossing-Human_Control\" ,\"Pedestrian_Crossing-Physical_Facilities\" ,\"Light_Conditions\" ,\"Weather_Conditions\" ,\"Road_Surface_Conditions\" ,\"Special_Conditions_at_Site\" ,\"Carriageway_Hazards\" ,\"Urban_or_Rural_Area\" ,\"Did_Police_Officer_Attend_Scene_of_Accident\" ,\"LSOA_of_Accident_Location\" ,\"Vehicle_Reference_df\" ,\"Casualty_Reference\" ,\"Casualty_Class\" ,\"Sex_of_Casualty\" ,\"Age_of_Casualty\" ,\"Age_Band_of_Casualty\" ,\"Casualty_Severity\" ,\"Pedestrian_Location\" ,\"Pedestrian_Movement\" ,\"Car_Passenger\" ,\"Bus_or_Coach_Passenger\" ,\"Pedestrian_Road_Maintenance_Worker\" ,\"Casualty_Type\" ,\"Casualty_Home_Area_Type\" ,\"Casualty_IMD_Decile\"'"
      ]
     },
     "execution_count": 8,
     "metadata": {},
     "output_type": "execute_result"
    }
   ],
   "source": [
    "all_cols"
   ]
  },
  {
   "cell_type": "code",
   "execution_count": 10,
   "metadata": {},
   "outputs": [
    {
     "name": "stdout",
     "output_type": "stream",
     "text": [
      "┌──────────────────────┬──────────────┬───┬──────────────────────┬─────────────────────┬──────────────┐\n",
      "│ Vehicle_Reference_…  │ Vehicle_Type │ … │ Casualty_Home_Area…  │ Casualty_IMD_Decile │ count_star() │\n",
      "│        int64         │    double    │   │        double        │       double        │    int64     │\n",
      "├──────────────────────┼──────────────┼───┼──────────────────────┼─────────────────────┼──────────────┤\n",
      "│                    1 │          1.0 │ … │                  1.0 │                 9.0 │            2 │\n",
      "│                    2 │          2.0 │ … │                  1.0 │                 4.0 │            2 │\n",
      "│                    2 │          1.0 │ … │                 NULL │                NULL │            2 │\n",
      "│                    2 │          1.0 │ … │                  1.0 │                 5.0 │            2 │\n",
      "│                    2 │          1.0 │ … │                  1.0 │                 3.0 │            2 │\n",
      "│                    2 │          1.0 │ … │                  1.0 │                 9.0 │            2 │\n",
      "│                    2 │          1.0 │ … │                  1.0 │                 6.0 │            2 │\n",
      "│                    2 │          1.0 │ … │                  1.0 │                 8.0 │            2 │\n",
      "│                    1 │          1.0 │ … │                  1.0 │                10.0 │            2 │\n",
      "│                    2 │          1.0 │ … │                  1.0 │                 7.0 │            2 │\n",
      "│                    2 │          1.0 │ … │                  1.0 │                10.0 │            2 │\n",
      "│                    2 │          1.0 │ … │                  1.0 │                 3.0 │            2 │\n",
      "│                    2 │          1.0 │ … │                  1.0 │                 4.0 │            2 │\n",
      "│                    2 │          1.0 │ … │                  1.0 │                 2.0 │            2 │\n",
      "│                    1 │          9.0 │ … │                  1.0 │                 2.0 │            2 │\n",
      "│                    1 │          9.0 │ … │                 NULL │                NULL │            2 │\n",
      "│                    2 │          1.0 │ … │                  1.0 │                 9.0 │            2 │\n",
      "│                    2 │          9.0 │ … │                  1.0 │                 5.0 │            2 │\n",
      "│                    1 │          9.0 │ … │                  1.0 │                 2.0 │            2 │\n",
      "│                    2 │          1.0 │ … │                  1.0 │                 4.0 │            2 │\n",
      "│                    2 │          1.0 │ … │                  1.0 │                 4.0 │            2 │\n",
      "│                    2 │          9.0 │ … │                 NULL │                NULL │            2 │\n",
      "├──────────────────────┴──────────────┴───┴──────────────────────┴─────────────────────┴──────────────┤\n",
      "│ 22 rows                                                                        67 columns (5 shown) │\n",
      "└─────────────────────────────────────────────────────────────────────────────────────────────────────┘\n",
      "\n"
     ]
    }
   ],
   "source": [
    "query = f\"\"\"\n",
    "SELECT {all_cols},COUNT(*) \n",
    "FROM dataset\n",
    "GROUP BY {all_cols}\n",
    "HAVING COUNT(*)>1\n",
    "\"\"\"\n",
    "conn.sql(query).show()"
   ]
  },
  {
   "cell_type": "code",
   "execution_count": null,
   "metadata": {},
   "outputs": [],
   "source": []
  }
 ],
 "metadata": {
  "kernelspec": {
   "display_name": "Python 3",
   "language": "python",
   "name": "python3"
  },
  "language_info": {
   "codemirror_mode": {
    "name": "ipython",
    "version": 3
   },
   "file_extension": ".py",
   "mimetype": "text/x-python",
   "name": "python",
   "nbconvert_exporter": "python",
   "pygments_lexer": "ipython3",
   "version": "3.8.16"
  },
  "orig_nbformat": 4
 },
 "nbformat": 4,
 "nbformat_minor": 2
}
