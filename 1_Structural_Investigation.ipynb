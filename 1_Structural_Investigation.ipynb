{
 "cells": [
  {
   "cell_type": "code",
   "execution_count": 22,
   "metadata": {},
   "outputs": [],
   "source": [
    "import duckdb\n",
    "\n",
    "from utils import  wrap_to_string\n",
    "\n",
    "conn = duckdb.connect(\"dataset.db\")"
   ]
  },
  {
   "attachments": {},
   "cell_type": "markdown",
   "metadata": {},
   "source": [
    "# Structural Investigation"
   ]
  },
  {
   "attachments": {},
   "cell_type": "markdown",
   "metadata": {},
   "source": [
    "Let's look at the general structure of the dataset"
   ]
  },
  {
   "cell_type": "code",
   "execution_count": 2,
   "metadata": {},
   "outputs": [
    {
     "name": "stdout",
     "output_type": "stream",
     "text": [
      "┌────────────────────┐\n",
      "│ count(column_name) │\n",
      "│       int64        │\n",
      "├────────────────────┤\n",
      "│                 67 │\n",
      "└────────────────────┘\n",
      "\n"
     ]
    }
   ],
   "source": [
    "query = \"SELECT COUNT(column_name) FROM information_schema.columns WHERE table_name='dataset'\"\n",
    "conn.sql(query).show()"
   ]
  },
  {
   "cell_type": "code",
   "execution_count": 3,
   "metadata": {},
   "outputs": [
    {
     "name": "stdout",
     "output_type": "stream",
     "text": [
      "┌──────────────┐\n",
      "│ count_star() │\n",
      "│    int64     │\n",
      "├──────────────┤\n",
      "│       363243 │\n",
      "└──────────────┘\n",
      "\n"
     ]
    }
   ],
   "source": [
    "query  = \"SELECT COUNT(*) FROM dataset\"\n",
    "conn.sql(query).show()"
   ]
  },
  {
   "attachments": {},
   "cell_type": "markdown",
   "metadata": {},
   "source": [
    "Count how many times each data type is present in the dataset"
   ]
  },
  {
   "cell_type": "code",
   "execution_count": 4,
   "metadata": {},
   "outputs": [
    {
     "name": "stdout",
     "output_type": "stream",
     "text": [
      "┌───────────┬──────────────┐\n",
      "│ data_type │ count_star() │\n",
      "│  varchar  │    int64     │\n",
      "├───────────┼──────────────┤\n",
      "│ VARCHAR   │            6 │\n",
      "│ BIGINT    │            6 │\n",
      "│ DOUBLE    │           55 │\n",
      "└───────────┴──────────────┘\n",
      "\n"
     ]
    }
   ],
   "source": [
    "query = \"SELECT data_type,COUNT(*) FROM information_schema.columns GROUP BY data_type\"\n",
    "conn.sql(query).show()"
   ]
  },
  {
   "attachments": {},
   "cell_type": "markdown",
   "metadata": {},
   "source": [
    "## 1.1. Structure of non-numerical features"
   ]
  },
  {
   "cell_type": "code",
   "execution_count": 31,
   "metadata": {},
   "outputs": [
    {
     "name": "stdout",
     "output_type": "stream",
     "text": [
      "┌───────────────────────────┐\n",
      "│        column_name        │\n",
      "│          varchar          │\n",
      "├───────────────────────────┤\n",
      "│ Accident_Index            │\n",
      "│ Sex_of_Driver             │\n",
      "│ Date                      │\n",
      "│ Time                      │\n",
      "│ Local_Authority_(Highway) │\n",
      "│ LSOA_of_Accident_Location │\n",
      "└───────────────────────────┘\n",
      "\n"
     ]
    }
   ],
   "source": [
    "query = \"\"\"\n",
    "SELECT column_name\n",
    "FROM information_schema.columns\n",
    "WHERE data_type NOT IN ('BIGINT', 'DOUBLE')\n",
    "\"\"\"\n",
    "conn.sql(query).show()"
   ]
  },
  {
   "attachments": {},
   "cell_type": "markdown",
   "metadata": {},
   "source": [
    "We have all the necessary column names from the above table. Unfortunately all my attempts to transform the above results to columns results in catastrophically bad looking and unintuitve code. So we'll tamely switch to python for a moment"
   ]
  },
  {
   "cell_type": "code",
   "execution_count": 32,
   "metadata": {},
   "outputs": [
    {
     "name": "stdout",
     "output_type": "stream",
     "text": [
      "┌──────────────────────┬─────────────┬───────────────┬───────────────┬───┬───────┬───────┬────────┬─────────────────┐\n",
      "│     column_name      │ column_type │      min      │      max      │ … │  q50  │  q75  │ count  │ null_percentage │\n",
      "│       varchar        │   varchar   │    varchar    │    varchar    │   │ int32 │ int32 │ int64  │     varchar     │\n",
      "├──────────────────────┼─────────────┼───────────────┼───────────────┼───┼───────┼───────┼────────┼─────────────────┤\n",
      "│ Accident_Index       │ VARCHAR     │ 201501BS70001 │ 2015984141415 │ … │  NULL │  NULL │ 363243 │ 0.0%            │\n",
      "│ Sex_of_Driver        │ VARCHAR     │ 1.0           │ 3.0           │ … │  NULL │  NULL │ 363243 │ 0.0%            │\n",
      "│ Date                 │ VARCHAR     │ 01/01/2015    │ 31/12/2015    │ … │  NULL │  NULL │ 363243 │ 11.94%          │\n",
      "│ Time                 │ VARCHAR     │ 00:01         │ 23:59         │ … │  NULL │  NULL │ 363243 │ 11.95%          │\n",
      "│ Local_Authority_(H…  │ VARCHAR     │ E06000001     │ W06000024     │ … │  NULL │  NULL │ 363243 │ 11.94%          │\n",
      "│ LSOA_of_Accident_L…  │ VARCHAR     │ E01000001     │ W01001958     │ … │  NULL │  NULL │ 363243 │ 17.75%          │\n",
      "├──────────────────────┴─────────────┴───────────────┴───────────────┴───┴───────┴───────┴────────┴─────────────────┤\n",
      "│ 6 rows                                                                                       12 columns (8 shown) │\n",
      "└───────────────────────────────────────────────────────────────────────────────────────────────────────────────────┘\n",
      "\n"
     ]
    }
   ],
   "source": [
    "query = \"\"\"\n",
    "SELECT column_name\n",
    "FROM information_schema.columns\n",
    "WHERE data_type NOT IN ('BIGINT', 'DOUBLE')\n",
    "\"\"\"\n",
    "df = conn.sql(query).df()\n",
    "non_numeric_columns =  wrap_to_string(df)\n",
    "\n",
    "# DcukDB has a nice summarize command to help out here\n",
    "query = f\"\"\"\n",
    "SUMMARIZE SELECT {non_numeric_columns} FROM dataset\n",
    "\"\"\"\n",
    "conn.sql(query).show()"
   ]
  },
  {
   "attachments": {},
   "cell_type": "markdown",
   "metadata": {},
   "source": [
    "## 1.2. Structure of numerical features"
   ]
  },
  {
   "cell_type": "code",
   "execution_count": 33,
   "metadata": {},
   "outputs": [],
   "source": [
    "query = \"\"\"\n",
    "SELECT column_name\n",
    "FROM information_schema.columns\n",
    "WHERE data_type IN ('BIGINT', 'DOUBLE')\n",
    "\"\"\"\n",
    "numeric_columns =  wrap_to_string(conn.sql(query).df())"
   ]
  },
  {
   "cell_type": "code",
   "execution_count": 45,
   "metadata": {},
   "outputs": [
    {
     "data": {
      "text/html": [
       "<div>\n",
       "<style scoped>\n",
       "    .dataframe tbody tr th:only-of-type {\n",
       "        vertical-align: middle;\n",
       "    }\n",
       "\n",
       "    .dataframe tbody tr th {\n",
       "        vertical-align: top;\n",
       "    }\n",
       "\n",
       "    .dataframe thead th {\n",
       "        text-align: right;\n",
       "    }\n",
       "</style>\n",
       "<table border=\"1\" class=\"dataframe\">\n",
       "  <thead>\n",
       "    <tr style=\"text-align: right;\">\n",
       "      <th></th>\n",
       "      <th>count_star()</th>\n",
       "    </tr>\n",
       "  </thead>\n",
       "  <tbody>\n",
       "    <tr>\n",
       "      <th>0</th>\n",
       "      <td>363221</td>\n",
       "    </tr>\n",
       "  </tbody>\n",
       "</table>\n",
       "</div>"
      ],
      "text/plain": [
       "   count_star()\n",
       "0        363221"
      ]
     },
     "execution_count": 45,
     "metadata": {},
     "output_type": "execute_result"
    }
   ],
   "source": [
    "query = f\"\"\"\n",
    "SELECT COUNT(*) FROM (SELECT DISTINCT {numeric_columns} FROM dataset) AS count_table\n",
    "\"\"\"\n",
    "conn.sql(query).df()"
   ]
  },
  {
   "cell_type": "code",
   "execution_count": null,
   "metadata": {},
   "outputs": [],
   "source": []
  }
 ],
 "metadata": {
  "kernelspec": {
   "display_name": "Python 3",
   "language": "python",
   "name": "python3"
  },
  "language_info": {
   "codemirror_mode": {
    "name": "ipython",
    "version": 3
   },
   "file_extension": ".py",
   "mimetype": "text/x-python",
   "name": "python",
   "nbconvert_exporter": "python",
   "pygments_lexer": "ipython3",
   "version": "3.8.16"
  },
  "orig_nbformat": 4,
  "vscode": {
   "interpreter": {
    "hash": "9ac03a0a6051494cc606d484d27d20fce22fb7b4d169f583271e11d5ba46a56e"
   }
  }
 },
 "nbformat": 4,
 "nbformat_minor": 2
}
