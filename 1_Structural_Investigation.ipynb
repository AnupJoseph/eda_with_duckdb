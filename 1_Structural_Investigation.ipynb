{
 "cells": [
  {
   "cell_type": "code",
   "execution_count": 1,
   "metadata": {},
   "outputs": [],
   "source": [
    "import duckdb\n",
    "\n",
    "conn = duckdb.connect(\"dataset.db\")"
   ]
  },
  {
   "attachments": {},
   "cell_type": "markdown",
   "metadata": {},
   "source": [
    "# Structural Investigation"
   ]
  },
  {
   "attachments": {},
   "cell_type": "markdown",
   "metadata": {},
   "source": [
    "Let's look at the general structure of the dataset"
   ]
  },
  {
   "cell_type": "code",
   "execution_count": 2,
   "metadata": {},
   "outputs": [
    {
     "name": "stdout",
     "output_type": "stream",
     "text": [
      "┌────────────────────┐\n",
      "│ count(column_name) │\n",
      "│       int64        │\n",
      "├────────────────────┤\n",
      "│                 67 │\n",
      "└────────────────────┘\n",
      "\n"
     ]
    }
   ],
   "source": [
    "query = \"SELECT COUNT(column_name) FROM information_schema.columns WHERE table_name='dataset'\"\n",
    "conn.sql(query).show()"
   ]
  },
  {
   "cell_type": "code",
   "execution_count": 3,
   "metadata": {},
   "outputs": [
    {
     "name": "stdout",
     "output_type": "stream",
     "text": [
      "┌──────────────┐\n",
      "│ count_star() │\n",
      "│    int64     │\n",
      "├──────────────┤\n",
      "│       363243 │\n",
      "└──────────────┘\n",
      "\n"
     ]
    }
   ],
   "source": [
    "query  = \"SELECT COUNT(*) FROM dataset\"\n",
    "conn.sql(query).show()"
   ]
  },
  {
   "attachments": {},
   "cell_type": "markdown",
   "metadata": {},
   "source": [
    "Count how many times each data type is present in the dataset"
   ]
  },
  {
   "cell_type": "code",
   "execution_count": 4,
   "metadata": {},
   "outputs": [
    {
     "name": "stdout",
     "output_type": "stream",
     "text": [
      "┌───────────┬──────────────┐\n",
      "│ data_type │ count_star() │\n",
      "│  varchar  │    int64     │\n",
      "├───────────┼──────────────┤\n",
      "│ VARCHAR   │            6 │\n",
      "│ BIGINT    │            6 │\n",
      "│ DOUBLE    │           55 │\n",
      "└───────────┴──────────────┘\n",
      "\n"
     ]
    }
   ],
   "source": [
    "query = \"SELECT data_type,COUNT(*) FROM information_schema.columns GROUP BY data_type\"\n",
    "conn.sql(query).show()"
   ]
  },
  {
   "attachments": {},
   "cell_type": "markdown",
   "metadata": {},
   "source": [
    "## 1.1. Structure of non-numerical features"
   ]
  },
  {
   "cell_type": "code",
   "execution_count": 12,
   "metadata": {},
   "outputs": [
    {
     "name": "stdout",
     "output_type": "stream",
     "text": [
      "┌────────────────────────────────────┐\n",
      "│            column_name             │\n",
      "│              varchar               │\n",
      "├────────────────────────────────────┤\n",
      "│ Vehicle_Reference_df_res           │\n",
      "│ Vehicle_Reference_df               │\n",
      "│ Casualty_Reference                 │\n",
      "│ Casualty_Class                     │\n",
      "│ Casualty_Severity                  │\n",
      "│ Casualty_Type                      │\n",
      "│ Vehicle_Type                       │\n",
      "│ Towing_and_Articulation            │\n",
      "│ Vehicle_Manoeuvre                  │\n",
      "│ Vehicle_Location-Restricted_Lane   │\n",
      "│        ·                           │\n",
      "│        ·                           │\n",
      "│        ·                           │\n",
      "│ Sex_of_Casualty                    │\n",
      "│ Age_of_Casualty                    │\n",
      "│ Age_Band_of_Casualty               │\n",
      "│ Pedestrian_Location                │\n",
      "│ Pedestrian_Movement                │\n",
      "│ Car_Passenger                      │\n",
      "│ Bus_or_Coach_Passenger             │\n",
      "│ Pedestrian_Road_Maintenance_Worker │\n",
      "│ Casualty_Home_Area_Type            │\n",
      "│ Casualty_IMD_Decile                │\n",
      "├────────────────────────────────────┤\n",
      "│         61 rows (20 shown)         │\n",
      "└────────────────────────────────────┘\n",
      "\n"
     ]
    }
   ],
   "source": [
    "query = \"\"\"\n",
    "SELECT column_name\n",
    "FROM information_schema.columns\n",
    "WHERE data_type IN ('BIGINT', 'DOUBLE')\n",
    "\"\"\"\n",
    "conn.sql(query).show()"
   ]
  },
  {
   "cell_type": "code",
   "execution_count": null,
   "metadata": {},
   "outputs": [],
   "source": []
  }
 ],
 "metadata": {
  "kernelspec": {
   "display_name": "Python 3",
   "language": "python",
   "name": "python3"
  },
  "language_info": {
   "codemirror_mode": {
    "name": "ipython",
    "version": 3
   },
   "file_extension": ".py",
   "mimetype": "text/x-python",
   "name": "python",
   "nbconvert_exporter": "python",
   "pygments_lexer": "ipython3",
   "version": "3.8.16"
  },
  "orig_nbformat": 4,
  "vscode": {
   "interpreter": {
    "hash": "9ac03a0a6051494cc606d484d27d20fce22fb7b4d169f583271e11d5ba46a56e"
   }
  }
 },
 "nbformat": 4,
 "nbformat_minor": 2
}
