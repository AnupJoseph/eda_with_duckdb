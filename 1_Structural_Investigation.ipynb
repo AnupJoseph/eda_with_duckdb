{
 "cells": [
  {
   "cell_type": "code",
   "execution_count": 22,
   "metadata": {},
   "outputs": [],
   "source": [
    "import duckdb\n",
    "\n",
    "from utils import  wrap_to_string\n",
    "\n",
    "conn = duckdb.connect(\"dataset.db\")"
   ]
  },
  {
   "attachments": {},
   "cell_type": "markdown",
   "metadata": {},
   "source": [
    "# Structural Investigation"
   ]
  },
  {
   "attachments": {},
   "cell_type": "markdown",
   "metadata": {},
   "source": [
    "Let's look at the general structure of the dataset"
   ]
  },
  {
   "cell_type": "code",
   "execution_count": 2,
   "metadata": {},
   "outputs": [
    {
     "name": "stdout",
     "output_type": "stream",
     "text": [
      "┌────────────────────┐\n",
      "│ count(column_name) │\n",
      "│       int64        │\n",
      "├────────────────────┤\n",
      "│                 67 │\n",
      "└────────────────────┘\n",
      "\n"
     ]
    }
   ],
   "source": [
    "query = \"SELECT COUNT(column_name) FROM information_schema.columns WHERE table_name='dataset'\"\n",
    "conn.sql(query).show()"
   ]
  },
  {
   "cell_type": "code",
   "execution_count": 3,
   "metadata": {},
   "outputs": [
    {
     "name": "stdout",
     "output_type": "stream",
     "text": [
      "┌──────────────┐\n",
      "│ count_star() │\n",
      "│    int64     │\n",
      "├──────────────┤\n",
      "│       363243 │\n",
      "└──────────────┘\n",
      "\n"
     ]
    }
   ],
   "source": [
    "query  = \"SELECT COUNT(*) FROM dataset\"\n",
    "conn.sql(query).show()"
   ]
  },
  {
   "attachments": {},
   "cell_type": "markdown",
   "metadata": {},
   "source": [
    "Count how many times each data type is present in the dataset"
   ]
  },
  {
   "cell_type": "code",
   "execution_count": 4,
   "metadata": {},
   "outputs": [
    {
     "name": "stdout",
     "output_type": "stream",
     "text": [
      "┌───────────┬──────────────┐\n",
      "│ data_type │ count_star() │\n",
      "│  varchar  │    int64     │\n",
      "├───────────┼──────────────┤\n",
      "│ VARCHAR   │            6 │\n",
      "│ BIGINT    │            6 │\n",
      "│ DOUBLE    │           55 │\n",
      "└───────────┴──────────────┘\n",
      "\n"
     ]
    }
   ],
   "source": [
    "query = \"SELECT data_type,COUNT(*) FROM information_schema.columns GROUP BY data_type\"\n",
    "conn.sql(query).show()"
   ]
  },
  {
   "attachments": {},
   "cell_type": "markdown",
   "metadata": {},
   "source": [
    "## 1.1. Structure of non-numerical features"
   ]
  },
  {
   "cell_type": "code",
   "execution_count": 23,
   "metadata": {},
   "outputs": [
    {
     "name": "stdout",
     "output_type": "stream",
     "text": [
      "┌────────────────────────────────────┐\n",
      "│            column_name             │\n",
      "│              varchar               │\n",
      "├────────────────────────────────────┤\n",
      "│ Vehicle_Reference_df_res           │\n",
      "│ Vehicle_Reference_df               │\n",
      "│ Casualty_Reference                 │\n",
      "│ Casualty_Class                     │\n",
      "│ Casualty_Severity                  │\n",
      "│ Casualty_Type                      │\n",
      "│ Vehicle_Type                       │\n",
      "│ Towing_and_Articulation            │\n",
      "│ Vehicle_Manoeuvre                  │\n",
      "│ Vehicle_Location-Restricted_Lane   │\n",
      "│        ·                           │\n",
      "│        ·                           │\n",
      "│        ·                           │\n",
      "│ Sex_of_Casualty                    │\n",
      "│ Age_of_Casualty                    │\n",
      "│ Age_Band_of_Casualty               │\n",
      "│ Pedestrian_Location                │\n",
      "│ Pedestrian_Movement                │\n",
      "│ Car_Passenger                      │\n",
      "│ Bus_or_Coach_Passenger             │\n",
      "│ Pedestrian_Road_Maintenance_Worker │\n",
      "│ Casualty_Home_Area_Type            │\n",
      "│ Casualty_IMD_Decile                │\n",
      "├────────────────────────────────────┤\n",
      "│         61 rows (20 shown)         │\n",
      "└────────────────────────────────────┘\n",
      "\n"
     ]
    }
   ],
   "source": [
    "query = \"\"\"\n",
    "SELECT column_name\n",
    "FROM information_schema.columns\n",
    "WHERE data_type IN ('BIGINT', 'DOUBLE')\n",
    "\"\"\"\n",
    "conn.sql(query).show()"
   ]
  },
  {
   "attachments": {},
   "cell_type": "markdown",
   "metadata": {},
   "source": [
    "We have all the necessary column names from the above table. Unfortunately all my attempts to transform the above results to columns results in catastrophically bad looking and unintuitve code. So we'll tamely switch to python for a moment"
   ]
  },
  {
   "cell_type": "code",
   "execution_count": 29,
   "metadata": {},
   "outputs": [
    {
     "name": "stdout",
     "output_type": "stream",
     "text": [
      "┌──────────────────────┬─────────────┬─────────┬─────────┬───┬───────────────────┬────────┬─────────────────┐\n",
      "│     column_name      │ column_type │   min   │   max   │ … │        q75        │ count  │ null_percentage │\n",
      "│       varchar        │   varchar   │ varchar │ varchar │   │      varchar      │ int64  │     varchar     │\n",
      "├──────────────────────┼─────────────┼─────────┼─────────┼───┼───────────────────┼────────┼─────────────────┤\n",
      "│ Vehicle_Reference_…  │ BIGINT      │ 1       │ 37      │ … │ 2                 │ 363243 │ 0.0%            │\n",
      "│ Vehicle_Reference_df │ BIGINT      │ 1       │ 32      │ … │ 2                 │ 363243 │ 0.0%            │\n",
      "│ Casualty_Reference   │ BIGINT      │ 1       │ 38      │ … │ 2                 │ 363243 │ 0.0%            │\n",
      "│ Casualty_Class       │ BIGINT      │ 1       │ 3       │ … │ 2                 │ 363243 │ 0.0%            │\n",
      "│ Casualty_Severity    │ BIGINT      │ 1       │ 3       │ … │ 3                 │ 363243 │ 0.0%            │\n",
      "│ Casualty_Type        │ BIGINT      │ 0       │ 98      │ … │ 9                 │ 363243 │ 0.0%            │\n",
      "│ Vehicle_Type         │ DOUBLE      │ 1.0     │ 98.0    │ … │ 9.0               │ 363243 │ 0.02%           │\n",
      "│ Towing_and_Articul…  │ DOUBLE      │ 0.0     │ 5.0     │ … │ 0.0               │ 363243 │ 0.1%            │\n",
      "│ Vehicle_Manoeuvre    │ DOUBLE      │ 1.0     │ 18.0    │ … │ 18.0              │ 363243 │ 0.05%           │\n",
      "│ Vehicle_Location-R…  │ DOUBLE      │ 0.0     │ 9.0     │ … │ 0.0               │ 363243 │ 0.05%           │\n",
      "│        ·             │   ·         │  ·      │  ·      │ · │  ·                │    ·   │   ·             │\n",
      "│        ·             │   ·         │  ·      │  ·      │ · │  ·                │    ·   │   ·             │\n",
      "│        ·             │   ·         │  ·      │  ·      │ · │  ·                │    ·   │   ·             │\n",
      "│ Sex_of_Casualty      │ DOUBLE      │ 1.0     │ 2.0     │ … │ 2.0               │ 363243 │ 0.04%           │\n",
      "│ Age_of_Casualty      │ DOUBLE      │ 0.0     │ 104.0   │ … │ 49.25760850715541 │ 363243 │ 1.53%           │\n",
      "│ Age_Band_of_Casualty │ DOUBLE      │ 1.0     │ 11.0    │ … │ 8.0               │ 363243 │ 1.53%           │\n",
      "│ Pedestrian_Location  │ DOUBLE      │ 0.0     │ 10.0    │ … │ 0.0               │ 363243 │ 0.0%            │\n",
      "│ Pedestrian_Movement  │ DOUBLE      │ 0.0     │ 9.0     │ … │ 0.0               │ 363243 │ 0.0%            │\n",
      "│ Car_Passenger        │ DOUBLE      │ 0.0     │ 2.0     │ … │ 0.0               │ 363243 │ 0.21%           │\n",
      "│ Bus_or_Coach_Passe…  │ DOUBLE      │ 0.0     │ 4.0     │ … │ 0.0               │ 363243 │ 0.01%           │\n",
      "│ Pedestrian_Road_Ma…  │ DOUBLE      │ 0.0     │ 2.0     │ … │ 0.0               │ 363243 │ 0.05%           │\n",
      "│ Casualty_Home_Area…  │ DOUBLE      │ 1.0     │ 3.0     │ … │ 1.0               │ 363243 │ 10.96%          │\n",
      "│ Casualty_IMD_Decile  │ DOUBLE      │ 1.0     │ 10.0    │ … │ 7.322499482298733 │ 363243 │ 19.15%          │\n",
      "├──────────────────────┴─────────────┴─────────┴─────────┴───┴───────────────────┴────────┴─────────────────┤\n",
      "│ 61 rows (20 shown)                                                                   12 columns (7 shown) │\n",
      "└───────────────────────────────────────────────────────────────────────────────────────────────────────────┘\n",
      "\n"
     ]
    }
   ],
   "source": [
    "query = \"\"\"\n",
    "SELECT column_name\n",
    "FROM information_schema.columns\n",
    "WHERE data_type IN ('BIGINT', 'DOUBLE')\n",
    "\"\"\"\n",
    "df = conn.sql(query).df()\n",
    "numeric_columns =  wrap_to_string(df)\n",
    "\n",
    "# DcukDB has a nice summarize command to help out here\n",
    "query = f\"\"\"\n",
    "SUMMARIZE SELECT {numeric_columns} FROM dataset\n",
    "\"\"\"\n",
    "conn.sql(query).show()"
   ]
  },
  {
   "attachments": {},
   "cell_type": "markdown",
   "metadata": {},
   "source": [
    "Let's do the same for non_numeric variables"
   ]
  },
  {
   "cell_type": "code",
   "execution_count": 30,
   "metadata": {},
   "outputs": [
    {
     "name": "stdout",
     "output_type": "stream",
     "text": [
      "┌──────────────────────┬─────────────┬───────────────┬───────────────┬───┬───────┬───────┬────────┬─────────────────┐\n",
      "│     column_name      │ column_type │      min      │      max      │ … │  q50  │  q75  │ count  │ null_percentage │\n",
      "│       varchar        │   varchar   │    varchar    │    varchar    │   │ int32 │ int32 │ int64  │     varchar     │\n",
      "├──────────────────────┼─────────────┼───────────────┼───────────────┼───┼───────┼───────┼────────┼─────────────────┤\n",
      "│ Accident_Index       │ VARCHAR     │ 201501BS70001 │ 2015984141415 │ … │  NULL │  NULL │ 363243 │ 0.0%            │\n",
      "│ Sex_of_Driver        │ VARCHAR     │ 1.0           │ 3.0           │ … │  NULL │  NULL │ 363243 │ 0.0%            │\n",
      "│ Date                 │ VARCHAR     │ 01/01/2015    │ 31/12/2015    │ … │  NULL │  NULL │ 363243 │ 11.94%          │\n",
      "│ Time                 │ VARCHAR     │ 00:01         │ 23:59         │ … │  NULL │  NULL │ 363243 │ 11.95%          │\n",
      "│ Local_Authority_(H…  │ VARCHAR     │ E06000001     │ W06000024     │ … │  NULL │  NULL │ 363243 │ 11.94%          │\n",
      "│ LSOA_of_Accident_L…  │ VARCHAR     │ E01000001     │ W01001958     │ … │  NULL │  NULL │ 363243 │ 17.75%          │\n",
      "├──────────────────────┴─────────────┴───────────────┴───────────────┴───┴───────┴───────┴────────┴─────────────────┤\n",
      "│ 6 rows                                                                                       12 columns (8 shown) │\n",
      "└───────────────────────────────────────────────────────────────────────────────────────────────────────────────────┘\n",
      "\n"
     ]
    }
   ],
   "source": [
    "query = \"\"\"\n",
    "SELECT column_name\n",
    "FROM information_schema.columns\n",
    "WHERE data_type NOT IN ('BIGINT', 'DOUBLE')\n",
    "\"\"\"\n",
    "df = conn.sql(query).df()\n",
    "non_numeric_columns =  wrap_to_string(df)\n",
    "\n",
    "# DcukDB has a nice summarize command to help out here\n",
    "query = f\"\"\"\n",
    "SUMMARIZE SELECT {non_numeric_columns} FROM dataset\n",
    "\"\"\"\n",
    "conn.sql(query).show()"
   ]
  },
  {
   "cell_type": "code",
   "execution_count": null,
   "metadata": {},
   "outputs": [],
   "source": []
  }
 ],
 "metadata": {
  "kernelspec": {
   "display_name": "Python 3",
   "language": "python",
   "name": "python3"
  },
  "language_info": {
   "codemirror_mode": {
    "name": "ipython",
    "version": 3
   },
   "file_extension": ".py",
   "mimetype": "text/x-python",
   "name": "python",
   "nbconvert_exporter": "python",
   "pygments_lexer": "ipython3",
   "version": "3.8.16"
  },
  "orig_nbformat": 4,
  "vscode": {
   "interpreter": {
    "hash": "9ac03a0a6051494cc606d484d27d20fce22fb7b4d169f583271e11d5ba46a56e"
   }
  }
 },
 "nbformat": 4,
 "nbformat_minor": 2
}
